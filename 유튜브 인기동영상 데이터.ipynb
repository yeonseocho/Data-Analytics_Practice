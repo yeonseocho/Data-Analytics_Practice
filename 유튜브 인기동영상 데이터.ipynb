{
 "cells": [
  {
   "cell_type": "code",
   "execution_count": 26,
   "metadata": {
    "collapsed": true
   },
   "outputs": [
    {
     "data": {
      "text/plain": "                                               title             channelTitle  \\\n0                                          [신병] 물자창고                      장삐쭈   \n1   RAIN(비) - 나로 바꾸자 Switch to me (duet with JYP) MV  RAIN's Official Channel   \n2       2020년 제야의 종 온라인 타종행사 | 보신각 현장 행사는 진행하지 않습니다.              서울시 · Seoul   \n3                                       고기남자의 칠면조 파티             고기남자 MeatMan   \n4  골목 3mc를 분노하게 만든 마음고생이 심했을 공릉 백반집 사장님의 푸념?! [예능...                    스브스밥집   \n\n   categoryId  view_count  likes  dislikes  comment_count  \\\n0          23     1893473  38249       730           8595   \n1          10     2600864      0         0          20129   \n2          29      347049   3564       120            178   \n3          26      528458  15372       280           3470   \n4          24      494904   3918       111           3142   \n\n                  channelId trending_date2  \n0  UChbE5OZQ6dRHECsX0tEPEZQ     2021-01-01  \n1  UCxXgIeE5hxWxHG6dz9Scg2w     2021-01-01  \n2  UCZUPZW5idAxYp-Asj__lVAA     2021-01-01  \n3  UCT3CumbFIJiW33uq0UI3zlg     2021-01-01  \n4  UCdWgRSfttvDucq4ApcCg5Mw     2021-01-01  ",
      "text/html": "<div>\n<style scoped>\n    .dataframe tbody tr th:only-of-type {\n        vertical-align: middle;\n    }\n\n    .dataframe tbody tr th {\n        vertical-align: top;\n    }\n\n    .dataframe thead th {\n        text-align: right;\n    }\n</style>\n<table border=\"1\" class=\"dataframe\">\n  <thead>\n    <tr style=\"text-align: right;\">\n      <th></th>\n      <th>title</th>\n      <th>channelTitle</th>\n      <th>categoryId</th>\n      <th>view_count</th>\n      <th>likes</th>\n      <th>dislikes</th>\n      <th>comment_count</th>\n      <th>channelId</th>\n      <th>trending_date2</th>\n    </tr>\n  </thead>\n  <tbody>\n    <tr>\n      <th>0</th>\n      <td>[신병] 물자창고</td>\n      <td>장삐쭈</td>\n      <td>23</td>\n      <td>1893473</td>\n      <td>38249</td>\n      <td>730</td>\n      <td>8595</td>\n      <td>UChbE5OZQ6dRHECsX0tEPEZQ</td>\n      <td>2021-01-01</td>\n    </tr>\n    <tr>\n      <th>1</th>\n      <td>RAIN(비) - 나로 바꾸자 Switch to me (duet with JYP) MV</td>\n      <td>RAIN's Official Channel</td>\n      <td>10</td>\n      <td>2600864</td>\n      <td>0</td>\n      <td>0</td>\n      <td>20129</td>\n      <td>UCxXgIeE5hxWxHG6dz9Scg2w</td>\n      <td>2021-01-01</td>\n    </tr>\n    <tr>\n      <th>2</th>\n      <td>2020년 제야의 종 온라인 타종행사 | 보신각 현장 행사는 진행하지 않습니다.</td>\n      <td>서울시 · Seoul</td>\n      <td>29</td>\n      <td>347049</td>\n      <td>3564</td>\n      <td>120</td>\n      <td>178</td>\n      <td>UCZUPZW5idAxYp-Asj__lVAA</td>\n      <td>2021-01-01</td>\n    </tr>\n    <tr>\n      <th>3</th>\n      <td>고기남자의 칠면조 파티</td>\n      <td>고기남자 MeatMan</td>\n      <td>26</td>\n      <td>528458</td>\n      <td>15372</td>\n      <td>280</td>\n      <td>3470</td>\n      <td>UCT3CumbFIJiW33uq0UI3zlg</td>\n      <td>2021-01-01</td>\n    </tr>\n    <tr>\n      <th>4</th>\n      <td>골목 3mc를 분노하게 만든 마음고생이 심했을 공릉 백반집 사장님의 푸념?! [예능...</td>\n      <td>스브스밥집</td>\n      <td>24</td>\n      <td>494904</td>\n      <td>3918</td>\n      <td>111</td>\n      <td>3142</td>\n      <td>UCdWgRSfttvDucq4ApcCg5Mw</td>\n      <td>2021-01-01</td>\n    </tr>\n  </tbody>\n</table>\n</div>"
     },
     "execution_count": 26,
     "metadata": {},
     "output_type": "execute_result"
    }
   ],
   "source": [
    "import pandas as pd\n",
    "df=pd.read_csv(\"https://raw.githubusercontent.com/Datamanim/datarepo/main/youtube/youtube.csv\", index_col=0)\n",
    "df.head()"
   ]
  },
  {
   "cell_type": "code",
   "execution_count": 27,
   "outputs": [],
   "source": [
    "## 1.인기동영상 제작횟수가 많은 채널 상위 10개명을 출력하라 (날짜기준, 중복포함)"
   ],
   "metadata": {
    "collapsed": false,
    "pycharm": {
     "name": "#%%\n"
    }
   }
  },
  {
   "cell_type": "code",
   "execution_count": 28,
   "outputs": [
    {
     "name": "stdout",
     "output_type": "stream",
     "text": [
      "['장삐쭈', '총몇명', '파뿌리', '짤툰', '런닝맨 - 스브스 공식 채널', '엠뚜루마뚜루 : MBC 공식 종합 채널', 'SPOTV', '채널 십오야', '이과장', 'BANGTANTV']\n"
     ]
    }
   ],
   "source": [
    "#isin:DataFrame객체의 각 요소가 values값과 일치하는지 여부를 bool형식으로 반환합니다.\n",
    "    #result = df.isin([1,3])\n",
    "    #print(result)\n",
    "    #1과3인 경우 True를 반환하는것을 확인 할 수 있습니다.\n",
    "#loc: 인덱스 기준으로 행 데이터 읽기\n",
    "#value_counts: 고유값에 대한 개수 반환\n",
    "#unique: 고유값\n",
    "\n",
    "ans1=list(df.loc[df.channelId.isin(df.channelId.value_counts().head(10).index)].channelTitle.unique())\n",
    "print(ans1)"
   ],
   "metadata": {
    "collapsed": false,
    "pycharm": {
     "name": "#%%\n"
    }
   }
  },
  {
   "cell_type": "code",
   "execution_count": 29,
   "outputs": [],
   "source": [
    "## 2. 논란으로 인기동영상이 된 케이스를 확인하고 싶다. dislikes수가 like 수보다 높은 동영상을 제작한 채널을 모두 출력하라"
   ],
   "metadata": {
    "collapsed": false,
    "pycharm": {
     "name": "#%%\n"
    }
   }
  },
  {
   "cell_type": "code",
   "execution_count": 30,
   "outputs": [
    {
     "data": {
      "text/plain": "['핫도그TV',\n 'ASMR 애정TV',\n '하얀트리HayanTree',\n '양팡 YangPang',\n '철구형 (CHULTUBE)',\n '왜냐맨하우스',\n '(MUTUBE)와꾸대장봉준',\n '오메킴TV',\n '육지담',\n 'MapleStory_KR',\n 'ROAD FIGHTING CHAMPIONSHIP',\n '사나이 김기훈',\n '나혼자산다 STUDIO',\n 'Gen.G esports']"
     },
     "execution_count": 30,
     "metadata": {},
     "output_type": "execute_result"
    }
   ],
   "source": [
    "ans2=list(df.loc[df.likes<df.dislikes].channelTitle.unique())\n",
    "ans2"
   ],
   "metadata": {
    "collapsed": false,
    "pycharm": {
     "name": "#%%\n"
    }
   }
  },
  {
   "cell_type": "code",
   "execution_count": 31,
   "outputs": [],
   "source": [
    "## 3. 채널명을 바꾼 케이스가 있는지 확인하고 싶다. channelId의 경우 고유값이므로 이를 통해 채널명을 한번이라도 바꾼 채널의 갯수를 구하여라"
   ],
   "metadata": {
    "collapsed": false,
    "pycharm": {
     "name": "#%%\n"
    }
   }
  },
  {
   "cell_type": "code",
   "execution_count": 32,
   "outputs": [
    {
     "name": "stdout",
     "output_type": "stream",
     "text": [
      "71\n"
     ]
    }
   ],
   "source": [
    "# duplicate: 중복 여부 확인\n",
    "ans3=df[['channelTitle', 'channelId']].drop_duplicates().channelId.value_counts()\n",
    "ans3_1=ans3[ans3>1]\n",
    "print(len(ans3_1))"
   ],
   "metadata": {
    "collapsed": false,
    "pycharm": {
     "name": "#%%\n"
    }
   }
  },
  {
   "cell_type": "code",
   "execution_count": 33,
   "outputs": [],
   "source": [
    "## 4. 일요일에 인기있었던 영상들중 가장많은 영상 종류(categoryId)는 무엇인가?"
   ],
   "metadata": {
    "collapsed": false,
    "pycharm": {
     "name": "#%%\n"
    }
   }
  },
  {
   "cell_type": "code",
   "execution_count": 34,
   "outputs": [
    {
     "name": "stdout",
     "output_type": "stream",
     "text": [
      "24\n"
     ]
    }
   ],
   "source": [
    "# to_datetime:시간 형식의 object 자료형 column을 datetime 형식으로 손쉽게 바꿀 수 있습니다. dtype을 object>>datetime\n",
    "# dt.day_name(): 문자열로 해당요일 추출\n",
    "df['trending_date2']=pd.to_datetime(df['trending_date2'])\n",
    "ans4=df.loc[df['trending_date2'].dt.day_name()=='Sunday'].categoryId.value_counts().index[0]\n",
    "print(ans4)"
   ],
   "metadata": {
    "collapsed": false,
    "pycharm": {
     "name": "#%%\n"
    }
   }
  },
  {
   "cell_type": "code",
   "execution_count": 35,
   "outputs": [],
   "source": [
    "## 5. 각 요일별 인기 영상들의 categoryId는 각각 몇개 씩인지 하나의 데이터 프레임으로 표현하라"
   ],
   "metadata": {
    "collapsed": false,
    "pycharm": {
     "name": "#%%\n"
    }
   }
  },
  {
   "cell_type": "code",
   "execution_count": 38,
   "outputs": [
    {
     "data": {
      "text/plain": "                 size                                                  \ntrending_date2 Friday Monday Saturday Sunday Thursday Tuesday Wednesday\ncategoryId                                                             \n1                 243    263      255    274      246     257       234\n2                 120    105      119     99      128     119       129\n10                833    837      776    830      890     894       917\n15                187    215      198    217      207     208       207\n17                633    668      592    636      682     708       706\n19                 90     92       87     91       92      89        85\n20                283    298      296    289      282     285       291\n22               1288   1373     1289   1337     1341    1375      1333\n23                568    594      570    556      560     569       566\n24               2976   3148     3066   3096     2954    3084      3090\n25                444    453      422    437      470     452       468\n26                369    378      364    363      375     394       385\n27                183    205      183    199      194     194       212\n28                171    160      173    167      166     161       165\n29                 12     10       10      9       13      11        12",
      "text/html": "<div>\n<style scoped>\n    .dataframe tbody tr th:only-of-type {\n        vertical-align: middle;\n    }\n\n    .dataframe tbody tr th {\n        vertical-align: top;\n    }\n\n    .dataframe thead tr th {\n        text-align: left;\n    }\n\n    .dataframe thead tr:last-of-type th {\n        text-align: right;\n    }\n</style>\n<table border=\"1\" class=\"dataframe\">\n  <thead>\n    <tr>\n      <th></th>\n      <th colspan=\"7\" halign=\"left\">size</th>\n    </tr>\n    <tr>\n      <th>trending_date2</th>\n      <th>Friday</th>\n      <th>Monday</th>\n      <th>Saturday</th>\n      <th>Sunday</th>\n      <th>Thursday</th>\n      <th>Tuesday</th>\n      <th>Wednesday</th>\n    </tr>\n    <tr>\n      <th>categoryId</th>\n      <th></th>\n      <th></th>\n      <th></th>\n      <th></th>\n      <th></th>\n      <th></th>\n      <th></th>\n    </tr>\n  </thead>\n  <tbody>\n    <tr>\n      <th>1</th>\n      <td>243</td>\n      <td>263</td>\n      <td>255</td>\n      <td>274</td>\n      <td>246</td>\n      <td>257</td>\n      <td>234</td>\n    </tr>\n    <tr>\n      <th>2</th>\n      <td>120</td>\n      <td>105</td>\n      <td>119</td>\n      <td>99</td>\n      <td>128</td>\n      <td>119</td>\n      <td>129</td>\n    </tr>\n    <tr>\n      <th>10</th>\n      <td>833</td>\n      <td>837</td>\n      <td>776</td>\n      <td>830</td>\n      <td>890</td>\n      <td>894</td>\n      <td>917</td>\n    </tr>\n    <tr>\n      <th>15</th>\n      <td>187</td>\n      <td>215</td>\n      <td>198</td>\n      <td>217</td>\n      <td>207</td>\n      <td>208</td>\n      <td>207</td>\n    </tr>\n    <tr>\n      <th>17</th>\n      <td>633</td>\n      <td>668</td>\n      <td>592</td>\n      <td>636</td>\n      <td>682</td>\n      <td>708</td>\n      <td>706</td>\n    </tr>\n    <tr>\n      <th>19</th>\n      <td>90</td>\n      <td>92</td>\n      <td>87</td>\n      <td>91</td>\n      <td>92</td>\n      <td>89</td>\n      <td>85</td>\n    </tr>\n    <tr>\n      <th>20</th>\n      <td>283</td>\n      <td>298</td>\n      <td>296</td>\n      <td>289</td>\n      <td>282</td>\n      <td>285</td>\n      <td>291</td>\n    </tr>\n    <tr>\n      <th>22</th>\n      <td>1288</td>\n      <td>1373</td>\n      <td>1289</td>\n      <td>1337</td>\n      <td>1341</td>\n      <td>1375</td>\n      <td>1333</td>\n    </tr>\n    <tr>\n      <th>23</th>\n      <td>568</td>\n      <td>594</td>\n      <td>570</td>\n      <td>556</td>\n      <td>560</td>\n      <td>569</td>\n      <td>566</td>\n    </tr>\n    <tr>\n      <th>24</th>\n      <td>2976</td>\n      <td>3148</td>\n      <td>3066</td>\n      <td>3096</td>\n      <td>2954</td>\n      <td>3084</td>\n      <td>3090</td>\n    </tr>\n    <tr>\n      <th>25</th>\n      <td>444</td>\n      <td>453</td>\n      <td>422</td>\n      <td>437</td>\n      <td>470</td>\n      <td>452</td>\n      <td>468</td>\n    </tr>\n    <tr>\n      <th>26</th>\n      <td>369</td>\n      <td>378</td>\n      <td>364</td>\n      <td>363</td>\n      <td>375</td>\n      <td>394</td>\n      <td>385</td>\n    </tr>\n    <tr>\n      <th>27</th>\n      <td>183</td>\n      <td>205</td>\n      <td>183</td>\n      <td>199</td>\n      <td>194</td>\n      <td>194</td>\n      <td>212</td>\n    </tr>\n    <tr>\n      <th>28</th>\n      <td>171</td>\n      <td>160</td>\n      <td>173</td>\n      <td>167</td>\n      <td>166</td>\n      <td>161</td>\n      <td>165</td>\n    </tr>\n    <tr>\n      <th>29</th>\n      <td>12</td>\n      <td>10</td>\n      <td>10</td>\n      <td>9</td>\n      <td>13</td>\n      <td>11</td>\n      <td>12</td>\n    </tr>\n  </tbody>\n</table>\n</div>"
     },
     "execution_count": 38,
     "metadata": {},
     "output_type": "execute_result"
    }
   ],
   "source": [
    "# group_by: ~별 에 해당하는 ~가 groupyby의 대상이 됩니다.\n",
    "# groupby를 사용하면 기본으로 그룹 라벨이 index가 됩니다. index를 사용하고 싶은 않은 경우에는 as_index=False 를 설정하면 됩니다.\n",
    "# size: 데이터 크기 확인\n",
    "group = df.groupby([df['trending_date2'].dt.day_name(),'categoryId'],as_index=False).size()\n",
    "answer= group.pivot(index='categoryId',columns='trending_date2')\n",
    "answer"
   ],
   "metadata": {
    "collapsed": false,
    "pycharm": {
     "name": "#%%\n"
    }
   }
  },
  {
   "cell_type": "code",
   "execution_count": 39,
   "outputs": [],
   "source": [
    "## 6. 댓글의 수로 (comment_count) 영상 반응에 대한 판단을 할 수 있다. viewcount대비 댓글수가 가장 높은 영상을 확인하라 (view_count값이 0인 경우는 제외한다)"
   ],
   "metadata": {
    "collapsed": false,
    "pycharm": {
     "name": "#%%\n"
    }
   }
  },
  {
   "cell_type": "code",
   "execution_count": null,
   "outputs": [],
   "source": [],
   "metadata": {
    "collapsed": false,
    "pycharm": {
     "name": "#%%\n"
    }
   }
  }
 ],
 "metadata": {
  "kernelspec": {
   "display_name": "Python 3",
   "language": "python",
   "name": "python3"
  },
  "language_info": {
   "codemirror_mode": {
    "name": "ipython",
    "version": 2
   },
   "file_extension": ".py",
   "mimetype": "text/x-python",
   "name": "python",
   "nbconvert_exporter": "python",
   "pygments_lexer": "ipython2",
   "version": "2.7.6"
  }
 },
 "nbformat": 4,
 "nbformat_minor": 0
}